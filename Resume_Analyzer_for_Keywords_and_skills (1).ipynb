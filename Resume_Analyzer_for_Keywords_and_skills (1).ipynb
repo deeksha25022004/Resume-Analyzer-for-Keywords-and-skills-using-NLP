{
  "nbformat": 4,
  "nbformat_minor": 0,
  "metadata": {
    "colab": {
      "provenance": []
    },
    "kernelspec": {
      "name": "python3",
      "display_name": "Python 3"
    },
    "language_info": {
      "name": "python"
    }
  },
  "cells": [
    {
      "cell_type": "markdown",
      "source": [
        "# **Resume Analyzer for Keywords and skills using NLP**"
      ],
      "metadata": {
        "id": "WXeV-RUOWCNu"
      }
    },
    {
      "cell_type": "code",
      "source": [
        "!pip install PyPDF2"
      ],
      "metadata": {
        "colab": {
          "base_uri": "https://localhost:8080/"
        },
        "collapsed": true,
        "id": "63PoJjgsiFCi",
        "outputId": "f5f69b12-4135-48d8-b30b-2f26f4492fda"
      },
      "execution_count": 2,
      "outputs": [
        {
          "output_type": "stream",
          "name": "stdout",
          "text": [
            "Collecting PyPDF2\n",
            "  Downloading pypdf2-3.0.1-py3-none-any.whl.metadata (6.8 kB)\n",
            "Downloading pypdf2-3.0.1-py3-none-any.whl (232 kB)\n",
            "\u001b[?25l   \u001b[90m━━━━━━━━━━━━━━━━━━━━━━━━━━━━━━━━━━━━━━━━\u001b[0m \u001b[32m0.0/232.6 kB\u001b[0m \u001b[31m?\u001b[0m eta \u001b[36m-:--:--\u001b[0m\r\u001b[2K   \u001b[91m━━━━━━━━━━━━━━━\u001b[0m\u001b[91m╸\u001b[0m\u001b[90m━━━━━━━━━━━━━━━━━━━━━━━━\u001b[0m \u001b[32m92.2/232.6 kB\u001b[0m \u001b[31m2.9 MB/s\u001b[0m eta \u001b[36m0:00:01\u001b[0m\r\u001b[2K   \u001b[90m━━━━━━━━━━━━━━━━━━━━━━━━━━━━━━━━━━━━━━━━\u001b[0m \u001b[32m232.6/232.6 kB\u001b[0m \u001b[31m3.3 MB/s\u001b[0m eta \u001b[36m0:00:00\u001b[0m\n",
            "\u001b[?25hInstalling collected packages: PyPDF2\n",
            "Successfully installed PyPDF2-3.0.1\n"
          ]
        }
      ]
    },
    {
      "cell_type": "code",
      "source": [
        "import nltk\n",
        "nltk.download('punkt')\n",
        "nltk.download('punkt_tab')\n",
        "nltk.download('stopwords')\n"
      ],
      "metadata": {
        "colab": {
          "base_uri": "https://localhost:8080/"
        },
        "collapsed": true,
        "id": "FNZ4-ExLigvD",
        "outputId": "42c77f93-c736-4b1c-cf98-6ad2faa17faf"
      },
      "execution_count": 3,
      "outputs": [
        {
          "output_type": "stream",
          "name": "stderr",
          "text": [
            "[nltk_data] Downloading package punkt to /root/nltk_data...\n",
            "[nltk_data]   Unzipping tokenizers/punkt.zip.\n",
            "[nltk_data] Downloading package punkt_tab to /root/nltk_data...\n",
            "[nltk_data]   Unzipping tokenizers/punkt_tab.zip.\n",
            "[nltk_data] Downloading package stopwords to /root/nltk_data...\n",
            "[nltk_data]   Unzipping corpora/stopwords.zip.\n"
          ]
        },
        {
          "output_type": "execute_result",
          "data": {
            "text/plain": [
              "True"
            ]
          },
          "metadata": {},
          "execution_count": 3
        }
      ]
    },
    {
      "cell_type": "code",
      "source": [
        "from google.colab import drive\n",
        "drive.mount('/content/drive')"
      ],
      "metadata": {
        "id": "7Lno96MDhs0t",
        "colab": {
          "base_uri": "https://localhost:8080/"
        },
        "outputId": "69f0344b-4e6d-4ae3-c7e1-57d746f0746a"
      },
      "execution_count": 4,
      "outputs": [
        {
          "output_type": "stream",
          "name": "stdout",
          "text": [
            "Mounted at /content/drive\n"
          ]
        }
      ]
    },
    {
      "cell_type": "code",
      "source": [
        "# Import Dependencies\n",
        "import re\n",
        "import PyPDF2\n",
        "\n",
        "from nltk.corpus import stopwords\n",
        "from nltk.tokenize import word_tokenize\n",
        "\n",
        "import string"
      ],
      "metadata": {
        "id": "llcPhfL5jCC8"
      },
      "execution_count": 5,
      "outputs": []
    },
    {
      "cell_type": "markdown",
      "source": [
        "Resume Analyzer for Keywords and skills For Machine Learning JOB"
      ],
      "metadata": {
        "id": "SWOKFMuHs408"
      }
    },
    {
      "cell_type": "code",
      "source": [
        "# Add Skills TO Keywords\n",
        "keywords  = [\"python\", \"data analysis\",\"machine learning\", \"deep learning\", \"artificial intelligence\",\"nlp\", \"tensorflow\",\"keras\", \"data visualisation\", \"data science\", \"sql\", \"r\"]\n",
        "\n",
        "stop_words = set(stopwords.words(\"english\"))"
      ],
      "metadata": {
        "id": "HYYbVmdCsVjj"
      },
      "execution_count": 6,
      "outputs": []
    },
    {
      "cell_type": "code",
      "source": [
        "#Extract text from Resume pdf\n",
        "def pdf(file_path):\n",
        "  text = \"\" # initialise text variable\n",
        "  with open(file_path,  \"rb\") as file:\n",
        "    pdf_reader = PyPDF2.PdfReader(file)\n",
        "\n",
        "    for page in pdf_reader.pages:\n",
        "      #Initialize page_text inside the loop for each page\n",
        "      page_text = \"\"\n",
        "      page_text += page.extract_text()\n",
        "      if page_text:\n",
        "        text += page_text\n",
        "  return text\n",
        "\n"
      ],
      "metadata": {
        "id": "Uz5qRX3yuY0u"
      },
      "execution_count": 7,
      "outputs": []
    },
    {
      "cell_type": "code",
      "source": [
        "#Tokenisation\n",
        "def tokenisation(text):\n",
        "  text = text.lower()\n",
        "  text = text.translate(str.maketrans(\"\", \"\", string.punctuation))\n",
        "  tokens = word_tokenize(text)\n",
        "\n",
        "  filtered_tokens = [token for token in tokens if token not in stop_words]\n",
        "  print(\"Filtered Tokens:\", filtered_tokens)\n",
        "\n",
        "  return filtered_tokens\n",
        "\n"
      ],
      "metadata": {
        "id": "eCLo8-G3uZDH"
      },
      "execution_count": 8,
      "outputs": []
    },
    {
      "cell_type": "code",
      "source": [
        "#Match Kyewords in Resume\n",
        "def match_keywords(tokens, keywords):\n",
        "  match_keywords = [word for word in tokens if word in keywords]\n",
        "\n",
        "  return match_keywords"
      ],
      "metadata": {
        "id": "tjL0ZKikuZGj"
      },
      "execution_count": 9,
      "outputs": []
    },
    {
      "cell_type": "code",
      "source": [
        "#Analyse Resume Score\n",
        "def analyse_resume(file_path):\n",
        "   if file_path.endswith(\".pdf\"):\n",
        "     text = pdf(file_path)\n",
        "   else:\n",
        "     return \"UNSUPPORTED FORMAT\"\n",
        "\n",
        "   tokens = tokenisation(text)\n",
        "\n",
        "   matched_keywords = match_keywords(tokens, keywords)\n",
        "   match_score = len(matched_keywords)\n",
        "\n",
        "   print(\"Matched_keywords\", match_keywords)\n",
        "   print(\"Match Score\", match_score)\n",
        "   print(\"Skills Found:, (match_score / len(tokens)\")\n",
        "\n",
        "   score = (match_score / len(tokens)) * 100\n",
        "   print(\" Skills Found:\", score, \"%\")\n",
        "\n",
        "file_path = \"/content/ResumeDeekshaSinghSgt.pdf\"\n",
        "analyse_resume(file_path)"
      ],
      "metadata": {
        "colab": {
          "base_uri": "https://localhost:8080/"
        },
        "id": "iYGPPfMEuZY6",
        "outputId": "13bd91a0-318d-4c6a-debd-cb44d076570c"
      },
      "execution_count": 13,
      "outputs": [
        {
          "output_type": "stream",
          "name": "stdout",
          "text": [
            "Filtered Tokens: ['resume', 'deeksha', 'singh', 'btech', 'computer', 'science', 'enthusiastic', 'bachelor', 'technology', 'btech', 'graduate', 'computer', 'science', 'known', 'collaborative', 'spirits', 'effective', 'communication', 'eagerness', 'acquire', 'new', 'skills', 'ready', 'use', 'academic', 'experience', 'tackle', 'real', 'world', 'challenges', 'continue', 'improve', 'skills', 'drive', 'personal', 'organizational', 'development', 'excel', 'team', 'settings', 'committed', 'continuous', 'learning', 'professional', 'development', 'education', '•', 'btech', 'computer', 'science', 'sgt', 'university', 'gurugram', '2022', '–', '2026', 'sgpa', '2nd', 'sem967', '•', 'senior', 'sec', 'studies', '12th', '10th', 'st', 'xavier', '’', 'senior', 'sec', 'school', '2018–', '2021', '842', '908', 'experience', '•', 'java', 'programming', 'intern', 'codsoft', 'additional', 'certifications', '•', 'amity', 'university', 'participation', 'certificate', 'innovathon', '’', '23', '•', 'iitdelhi', '1', 'day', 'workshop', 'virtual', 'labs', '•', 'sgt', 'university', 'hands', 'training', 'image', 'processing', 'matlab', 'participated', 'certificate', 'technoquiz', 'pradarshan', '2o', 'shapemyskills', 'pvtltd', 'django', 'using', 'python', 'participated', 'certificate', 'smart', 'india', 'hackathon', '•', 'apna', 'college', 'dsa', 'java', '•', 'great', 'learning', 'python', 'fundamentals', 'beginners', 'front', 'end', 'development', 'html', 'front', 'end', 'development', 'css', '•', 'let', '’', 'upgrade', 'html', 'css', 'essentials', 'bootcamp', 'sql', 'essentials', 'bootcamp', '3', 'days', 'projects', '•', 'atm', 'interface', 'using', 'java', 'programming', 'language', 'technical', 'skills', '•', 'java', '•', 'html', 'css', '•', 'c', '•', 'sql', '•', 'matlab', 'soft', 'skills', '•', 'communication', '•', 'team', 'work', '•', 'problem', 'solving', '•', 'leadership', 'skills', '•', 'adaptability', '•', 'active', 'listening', 'achievements', '•', 'secured', '1st', 'position', 'technoquiz', 'pradarshan', '2o', 'sgt', 'university', 'extracurricular', 'activities', '•', 'coordinator', 'sgt', 'university', 'hackathon', '–', 'code', 'sangam', '•', 'dance', 'coordinator', 'college', 'fresher', '’', 'party', '•', 'volunteer', 'deeksharambh', 'induction', 'program', '•', 'participated', 'dance', 'freshers', '’', 'party', 'personal', 'details', 'date', 'birth', '25022004', 'father', '’', 'name', 'jagdev', 'singh', 'hobbies', 'dancing', 'playing', 'badminton', 'drawing', 'email', 'deeksha25022004gmailcom', 'contact', '8707681606', 'portfolio', 'links', 'linkedin', 'https', 'wwwlinkedincomindeeksha', 'singh5719a6265']\n",
            "Matched_keywords <function match_keywords at 0x7c11d809d440>\n",
            "Match Score 4\n",
            "Skills Found:, (match_score / len(tokens)\n",
            " Skills Found: 1.5686274509803921 %\n"
          ]
        }
      ]
    }
  ]
}